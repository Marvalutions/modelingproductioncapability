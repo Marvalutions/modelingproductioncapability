{
 "cells": [
  {
   "cell_type": "code",
   "execution_count": 1,
   "id": "d13c4381-55e7-4f64-bd8d-991c54e90455",
   "metadata": {},
   "outputs": [
    {
     "name": "stdout",
     "output_type": "stream",
     "text": [
      "Data for plant  ..\\data\\input\\daily_production\\BRU saved as  ..\\data\\intermediate\\BRU.xlsx\n",
      "Data for plant  ..\\data\\input\\daily_production\\STO saved as  ..\\data\\intermediate\\STO.xlsx\n",
      "Collecting and organizing data finished successfully\n"
     ]
    }
   ],
   "source": [
    "import json\n",
    "from pathlib import Path\n",
    "import pandas as pd# Set up paths using pathlib\n",
    "import openpyxl\n",
    "\n",
    "base_path = Path(\"..\") / \"data\"\n",
    "input_path = base_path / \"input\"\n",
    "master_file = input_path / \"master_data.json\"\n",
    "daily_prod_path = input_path / \"daily_production\"\n",
    "intermediate_path = base_path / \"intermediate\"\n",
    "\n",
    "# Load master_data\n",
    "with open(master_file, 'r') as file:\n",
    "    master_data = json.load(file)\n",
    "\n",
    "# Get subdirectories in daily_production\n",
    "subdirs = [d for d in daily_prod_path.iterdir() if d.is_dir()]\n",
    "\n",
    "# Process production data for each production plant\n",
    "# and save it in a sepereate excel-file for each plant\n",
    "for subdir in subdirs:\n",
    "    json_files = [f for f in subdir.glob('*.json')]\n",
    "    data = []\n",
    "\n",
    "    for json_file in json_files:\n",
    "        try:\n",
    "            with open(json_file, 'r') as file:\n",
    "                file_data = json.load(file)\n",
    "            data.append(file_data)\n",
    "        except json.JSONDecodeError:\n",
    "            print(f\"Error reading {json_file}\")\n",
    "\n",
    "    df = pd.DataFrame(data)\n",
    "    export_file = intermediate_path / f\"{subdir.name}.xlsx\"\n",
    "    df.to_excel(export_file, index=False)\n",
    "    print(\"Data for plant \",subdir, \"saved as \",export_file)\n",
    "\n",
    "print(\"Collecting and organizing data finished successfully\")"
   ]
  },
  {
   "cell_type": "code",
   "execution_count": null,
   "id": "319b2ac1-1116-4ba1-9c90-74feeef854de",
   "metadata": {},
   "outputs": [],
   "source": []
  }
 ],
 "metadata": {
  "kernelspec": {
   "display_name": "Python 3 (ipykernel)",
   "language": "python",
   "name": "python3"
  },
  "language_info": {
   "codemirror_mode": {
    "name": "ipython",
    "version": 3
   },
   "file_extension": ".py",
   "mimetype": "text/x-python",
   "name": "python",
   "nbconvert_exporter": "python",
   "pygments_lexer": "ipython3",
   "version": "3.11.5"
  }
 },
 "nbformat": 4,
 "nbformat_minor": 5
}
