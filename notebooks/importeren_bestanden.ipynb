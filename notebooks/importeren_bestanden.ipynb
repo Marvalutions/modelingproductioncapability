{
 "cells": [
  {
   "cell_type": "code",
   "execution_count": 4,
   "metadata": {},
   "outputs": [
    {
     "name": "stdout",
     "output_type": "stream",
     "text": [
      "Data for plant  BRU saved as  ../data/intermediate/BRU.xlsx\n",
      "Data for plant  STO saved as  ../data/intermediate/STO.xlsx\n",
      "Collecting and organizing data finished successfully\n"
     ]
    }
   ],
   "source": [
    "import json\n",
    "import os\n",
    "import pandas as pd\n",
    "import openpyxl\n",
    "\n",
    "\n",
    "# collecting master_data\n",
    "dir_path = r\"../data/input/\"\n",
    "master_file = os.path.join(dir_path,'master_data.json')\n",
    "with open(master_file,'r') as file :\n",
    "    master_data = json.load(file)\n",
    "\n",
    "# collecting subdirectories and files for each production plant\n",
    "dir_path = r\"../data/input/daily_production/\"\n",
    "subdirs = []\n",
    "for root, dirs, files in os.walk(dir_path):\n",
    "        for dir in dirs:\n",
    "            subdirs.append(dir)\n",
    "\n",
    "# collecting production data and organize it in 1 xlsx-file per plant\n",
    "for subdir in subdirs:\n",
    "    subdir_path = os.path.join(dir_path, subdir)\n",
    "    export_path = r\"../data/intermediate/\"\n",
    "    all_files = os.listdir(subdir_path)\n",
    "    json_files = [file for file in all_files if file.endswith('.json')]\n",
    "    data = []\n",
    "    for json_file in json_files:\n",
    "        file_path = os.path.join(subdir_path, json_file)\n",
    "        with open(file_path, 'r') as file:\n",
    "            file_data = json.load(file)\n",
    "            data.append(file_data)\n",
    "    df = pd.DataFrame(data)\n",
    "    filename = subdir+'.xlsx'\n",
    "    export_file = os.path.join(export_path,filename)\n",
    "    df.to_excel(export_file)\n",
    "    print(\"Data for plant \",subdir, \"saved as \",export_file)\n",
    "\n",
    "print(\"Collecting and organizing data finished successfully\")\n"
   ]
  }
 ],
 "metadata": {
  "kernelspec": {
   "display_name": "Python 3 (ipykernel)",
   "language": "python",
   "name": "python3"
  },
  "language_info": {
   "codemirror_mode": {
    "name": "ipython",
    "version": 3
   },
   "file_extension": ".py",
   "mimetype": "text/x-python",
   "name": "python",
   "nbconvert_exporter": "python",
   "pygments_lexer": "ipython3",
   "version": "3.11.5"
  }
 },
 "nbformat": 4,
 "nbformat_minor": 4
}
